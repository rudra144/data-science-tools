{
 "cells": [
  {
   "cell_type": "markdown",
   "id": "c89410c1-e169-4b64-a30c-e7083fbc1bf8",
   "metadata": {},
   "source": [
    "<h1>Data Science Tools and Ecosystem</h1>"
   ]
  },
  {
   "cell_type": "markdown",
   "id": "3bb66acf-f396-4d40-a75e-39e4cde7e1f7",
   "metadata": {},
   "source": [
    "<h2>In this notebook, Data Science Tools and Ecosystem are summarized.</h2>"
   ]
  },
  {
   "cell_type": "markdown",
   "id": "ceb72ac6-7112-4f15-a746-bdf2c8aa8117",
   "metadata": {},
   "source": [
    "<h2>Data Science Languages</h2>\n",
    "\n",
    "<strong>Some of the popular languages that Data Scientists use are:</strong>\n",
    "\n",
    "<ol>\n",
    "    <li>Python</li>\n",
    "    <li>R</li>\n",
    "    <li>SQL</li>\n",
    "    <li>Julia</li>\n",
    "    <li>Scala</li>\n",
    "</ol>\n"
   ]
  },
  {
   "cell_type": "markdown",
   "id": "ddc7990c-172c-4da5-9abb-0737eb047874",
   "metadata": {},
   "source": [
    "<h2>Data Science Libraries</h2>\n",
    "\n",
    "<strong>Some of the commonly used libraries by Data Scientists include:</strong>\n",
    "\n",
    "<ol>\n",
    "    <li>NumPy</li>\n",
    "    <li>Pandas</li>\n",
    "    <li>Matplotlib</li>\n",
    "    <li>Scikit-learn</li>\n",
    "    <li>TensorFlow</li>\n",
    "</ol>\n"
   ]
  },
  {
   "cell_type": "markdown",
   "id": "0b101fef-5a10-4987-9422-47f799fb45a6",
   "metadata": {},
   "source": [
    "<h2>Data Science Tools</h2>\n",
    "\n",
    "<table>\n",
    "    <tr>\n",
    "        <th>Data Science Tools</th>\n",
    "    </tr>\n",
    "    <tr>\n",
    "        <td>Jupyter Notebook</td>\n",
    "    </tr>\n",
    "    <tr>\n",
    "        <td>Apache Zeppelin</td>\n",
    "    </tr>\n",
    "    <tr>\n",
    "        <td>RStudio</td>\n",
    "    </tr>\n",
    "</table>\n"
   ]
  },
  {
   "cell_type": "markdown",
   "id": "19d65c16-3e99-437f-a294-bc7f835ad9c6",
   "metadata": {},
   "source": [
    "<h3>Below are a few examples of evaluating arithmetic expressions in Python</h3>\n"
   ]
  },
  {
   "cell_type": "code",
   "execution_count": 4,
   "id": "be767695-4e90-47b7-8852-261bb0e0c7a8",
   "metadata": {},
   "outputs": [
    {
     "name": "stdout",
     "output_type": "stream",
     "text": [
      "17\n"
     ]
    }
   ],
   "source": [
    "result = (3 * 4) + 5\n",
    "print(result)  \n"
   ]
  },
  {
   "cell_type": "code",
   "execution_count": 6,
   "id": "842190d5-86ce-4b1e-a382-aed2550035d9",
   "metadata": {},
   "outputs": [
    {
     "name": "stdout",
     "output_type": "stream",
     "text": [
      "3.3333333333333335\n"
     ]
    }
   ],
   "source": [
    "hours = 200 / 60\n",
    "print(hours)  \n"
   ]
  },
  {
   "cell_type": "markdown",
   "id": "233f844e-3fb8-4ae3-9e67-288ae1213882",
   "metadata": {},
   "source": [
    "<h2>Objectives</h2>\n",
    "\n",
    "<ul>\n",
    "    <li>List popular languages for Data Science</li>\n",
    "    <li>Identify common Data Science libraries</li>\n",
    "    <li>Understand different Data Science tools</li>\n",
    "    <li>Work with arithmetic expressions in Python</li>\n",
    "    <li>Convert time units using Python</li>\n",
    "</ul>\n"
   ]
  },
  {
   "cell_type": "markdown",
   "id": "515fa6e9-cb25-4c21-88a4-12f59b04ffc7",
   "metadata": {},
   "source": [
    "<h2>Author</h2>\n",
    "\n",
    "Rudhresh Madhusudhanan\n"
   ]
  },
  {
   "cell_type": "code",
   "execution_count": null,
   "id": "202e806b-ded0-40fa-98e2-bafb1d24bdc2",
   "metadata": {},
   "outputs": [],
   "source": []
  }
 ],
 "metadata": {
  "kernelspec": {
   "display_name": "Python 3 (ipykernel)",
   "language": "python",
   "name": "python3"
  },
  "language_info": {
   "codemirror_mode": {
    "name": "ipython",
    "version": 3
   },
   "file_extension": ".py",
   "mimetype": "text/x-python",
   "name": "python",
   "nbconvert_exporter": "python",
   "pygments_lexer": "ipython3",
   "version": "3.11.8"
  }
 },
 "nbformat": 4,
 "nbformat_minor": 5
}
